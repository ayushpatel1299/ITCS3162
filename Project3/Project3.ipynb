{
 "cells": [
  {
   "cell_type": "code",
   "execution_count": 144,
   "metadata": {},
   "outputs": [],
   "source": [
    "import pandas as pd\n",
    "import numpy as np\n",
    "from matplotlib import pyplot as plt\n",
    "import seaborn as sns \n",
    "import math\n",
    "import sklearn\n",
    "\n",
    "df = pd.read_csv(\"//Users/owner/ITCS_3162/ITCS3162/Project3/World military power.csv\")\n"
   ]
  },
  {
   "cell_type": "code",
   "execution_count": 145,
   "metadata": {},
   "outputs": [
    {
     "data": {
      "text/html": [
       "<div>\n",
       "<style scoped>\n",
       "    .dataframe tbody tr th:only-of-type {\n",
       "        vertical-align: middle;\n",
       "    }\n",
       "\n",
       "    .dataframe tbody tr th {\n",
       "        vertical-align: top;\n",
       "    }\n",
       "\n",
       "    .dataframe thead th {\n",
       "        text-align: right;\n",
       "    }\n",
       "</style>\n",
       "<table border=\"1\" class=\"dataframe\">\n",
       "  <thead>\n",
       "    <tr style=\"text-align: right;\">\n",
       "      <th></th>\n",
       "      <th>2020 ranking</th>\n",
       "      <th>Overall Strength Index</th>\n",
       "      <th>Aircraft Power</th>\n",
       "      <th>Land Assets</th>\n",
       "      <th>Navy Fleet Strength</th>\n",
       "      <th>Defense Budget</th>\n",
       "      <th>Natural Resources</th>\n",
       "      <th>Manpower</th>\n",
       "    </tr>\n",
       "  </thead>\n",
       "  <tbody>\n",
       "    <tr>\n",
       "      <th>0</th>\n",
       "      <td>United States</td>\n",
       "      <td>0.0606</td>\n",
       "      <td>13264.0</td>\n",
       "      <td>6289.0</td>\n",
       "      <td>490.0</td>\n",
       "      <td>7.500000e+11</td>\n",
       "      <td>3.652000e+10</td>\n",
       "      <td>144872845.0</td>\n",
       "    </tr>\n",
       "    <tr>\n",
       "      <th>1</th>\n",
       "      <td>Russia</td>\n",
       "      <td>0.0681</td>\n",
       "      <td>4163.0</td>\n",
       "      <td>12950.0</td>\n",
       "      <td>603.0</td>\n",
       "      <td>4.800000e+10</td>\n",
       "      <td>8.000000e+10</td>\n",
       "      <td>69640160.0</td>\n",
       "    </tr>\n",
       "    <tr>\n",
       "      <th>2</th>\n",
       "      <td>China</td>\n",
       "      <td>0.0691</td>\n",
       "      <td>3210.0</td>\n",
       "      <td>3500.0</td>\n",
       "      <td>777.0</td>\n",
       "      <td>2.370000e+11</td>\n",
       "      <td>2.562000e+10</td>\n",
       "      <td>752855402.0</td>\n",
       "    </tr>\n",
       "    <tr>\n",
       "      <th>3</th>\n",
       "      <td>India</td>\n",
       "      <td>0.0953</td>\n",
       "      <td>2123.0</td>\n",
       "      <td>4292.0</td>\n",
       "      <td>285.0</td>\n",
       "      <td>6.100000e+10</td>\n",
       "      <td>4.621000e+09</td>\n",
       "      <td>622480340.0</td>\n",
       "    </tr>\n",
       "    <tr>\n",
       "      <th>4</th>\n",
       "      <td>Japan</td>\n",
       "      <td>0.1501</td>\n",
       "      <td>1561.0</td>\n",
       "      <td>1004.0</td>\n",
       "      <td>155.0</td>\n",
       "      <td>4.900000e+10</td>\n",
       "      <td>4.412000e+07</td>\n",
       "      <td>53873803.0</td>\n",
       "    </tr>\n",
       "  </tbody>\n",
       "</table>\n",
       "</div>"
      ],
      "text/plain": [
       "    2020 ranking  Overall Strength Index  Aircraft Power  Land Assets  \\\n",
       "0  United States                  0.0606         13264.0       6289.0   \n",
       "1         Russia                  0.0681          4163.0      12950.0   \n",
       "2          China                  0.0691          3210.0       3500.0   \n",
       "3          India                  0.0953          2123.0       4292.0   \n",
       "4          Japan                  0.1501          1561.0       1004.0   \n",
       "\n",
       "   Navy Fleet Strength  Defense Budget  Natural Resources     Manpower  \n",
       "0                490.0    7.500000e+11       3.652000e+10  144872845.0  \n",
       "1                603.0    4.800000e+10       8.000000e+10   69640160.0  \n",
       "2                777.0    2.370000e+11       2.562000e+10  752855402.0  \n",
       "3                285.0    6.100000e+10       4.621000e+09  622480340.0  \n",
       "4                155.0    4.900000e+10       4.412000e+07   53873803.0  "
      ]
     },
     "execution_count": 145,
     "metadata": {},
     "output_type": "execute_result"
    }
   ],
   "source": [
    "df = pd.read_csv('World military power.csv')\n",
    "\n",
    "df.drop('Unnamed: 4', axis = 1, inplace = True)\n",
    "df.drop('Unnamed: 5', axis = 1, inplace = True)\n",
    "df.drop('Unnamed: 6', axis = 1, inplace = True)\n",
    "df.drop('Unnamed: 8', axis = 1, inplace = True)\n",
    "df.drop('Unnamed: 9', axis = 1, inplace = True)\n",
    "df.drop('Unnamed: 10', axis = 1, inplace = True)\n",
    "df.drop('Unnamed: 11', axis = 1, inplace = True)\n",
    "df.drop('Unnamed: 12', axis = 1, inplace = True)\n",
    "df.drop('Unnamed: 13', axis = 1, inplace = True)\n",
    "df.drop('Unnamed: 14', axis = 1, inplace = True)\n",
    "df.drop('Land Strength', axis = 1, inplace = True)\n",
    "df.drop('Unnamed: 18', axis = 1, inplace = True)\n",
    "df.drop('Airforce Strength', axis = 1, inplace = True)\n",
    "df.drop('Unnamed: 7', axis = 1, inplace = True)\n",
    "df.drop('Unnamed: 15', axis = 1, inplace = True)\n",
    "df.drop('Unnamed: 19', axis = 1, inplace = True)\n",
    "df.drop('Unnamed: 20', axis = 1, inplace = True)\n",
    "df.drop('Unnamed: 21', axis = 1, inplace = True)\n",
    "df.drop('Unnamed: 23', axis = 1, inplace = True)\n",
    "df.drop('Unnamed: 24', axis = 1, inplace = True)\n",
    "df.drop('Unnamed: 22', axis = 1, inplace = True)\n",
    "df.drop('Unnamed: 25', axis = 1, inplace = True)\n",
    "df.drop('Navy Strength', axis = 1, inplace = True)\n",
    "df.drop('Unnamed: 28', axis = 1, inplace = True)\n",
    "df.drop('Unnamed: 29', axis = 1, inplace = True)\n",
    "df.drop('Unnamed: 30', axis = 1, inplace = True)\n",
    "df.drop('Unnamed: 31', axis = 1, inplace = True)\n",
    "df.drop('Unnamed: 32', axis = 1, inplace = True)\n",
    "df.drop('Unnamed: 33', axis = 1, inplace = True)\n",
    "df.drop('Unnamed: 34', axis = 1, inplace = True)\n",
    "df.drop('Unnamed: 35', axis = 1, inplace = True)\n",
    "df.drop('Finances', axis = 1, inplace = True)\n",
    "df.drop('Unnamed: 38', axis = 1, inplace = True)\n",
    "df.drop('Unnamed: 39', axis = 1, inplace = True)\n",
    "df.drop('Logistics', axis = 1, inplace = True)\n",
    "df.drop('Unnamed: 41', axis = 1, inplace = True)\n",
    "df.drop('Natural resources', axis = 1, inplace = True)\n",
    "df.drop('Unnamed: 44', axis = 1, inplace = True)\n",
    "df.drop('Unnamed: 45', axis = 1, inplace = True)\n",
    "df.drop('Unnamed: 46', axis = 1, inplace = True)\n",
    "df.drop('Unnamed: 50', axis = 1, inplace = True)\n",
    "df.drop('Unnamed: 51', axis = 1, inplace = True)\n",
    "df.drop('Manpower', axis = 1, inplace = True)\n",
    "df.drop('Geography', axis = 1, inplace = True)\n",
    "df.drop('Unnamed: 53', axis = 1, inplace = True)\n",
    "df.drop('Unnamed: 54', axis = 1, inplace = True)\n",
    "df.drop('Unnamed: 55', axis = 1, inplace = True)\n",
    "df.drop('Unnamed: 56', axis = 1, inplace = True)\n",
    "df.drop('Unnamed: 57', axis = 1, inplace = True)\n",
    "df.drop('Unnamed: 58', axis = 1, inplace = True)\n",
    "df.drop('Unnamed: 59', axis = 1, inplace = True)\n",
    "df.drop('Unnamed: 43', axis = 1, inplace = True)\n",
    "df = df.rename(columns={'Unnamed: 1': 'Overall Strength Index', 'Unnamed: 3': 'Aircraft Power', 'Unnamed: 17': 'Land Assets', 'Unnamed: 27': 'Navy Fleet Strength','Unnamed: 37': 'Defense Budget', 'Unnamed: 47': 'Natural Resources','Unnamed: 49': 'Manpower' })\n",
    "rows_to_drop = [0,67, 109, 116, 105, 16,93, 64, 42, 24, 81, 89, 37, 70, 77, 82, 34, 38, 66, 112, 79,2 , 85, 94, 75, 6, 48, 122, 17, 21, 76, 45, 86, 65, 14,22,108, 54,20, 63, 72,132]\n",
    "df = df.drop(rows_to_drop)\n",
    "df = df.sort_values(by='Overall Strength Index', ascending=True)\n",
    "df = df.reset_index(drop=True)\n",
    "df.replace(',','', regex=True, inplace=True)\n",
    "df[['Overall Strength Index', 'Aircraft Power', 'Land Assets','Navy Fleet Strength','Defense Budget','Natural Resources','Manpower']] = df[['Overall Strength Index', 'Aircraft Power', 'Land Assets','Navy Fleet Strength','Defense Budget','Natural Resources','Manpower']].apply(pd.to_numeric)\n",
    "df.head()"
   ]
  },
  {
   "cell_type": "markdown",
   "metadata": {},
   "source": [
    "\n",
    "Modeling "
   ]
  },
  {
   "cell_type": "markdown",
   "metadata": {},
   "source": []
  },
  {
   "cell_type": "code",
   "execution_count": 146,
   "metadata": {},
   "outputs": [],
   "source": [
    "import pandas as pd\n",
    "import numpy as np\n",
    "from sklearn.model_selection import train_test_split\n",
    "from sklearn.linear_model import LinearRegression\n",
    "from sklearn.metrics import mean_squared_error, r2_score"
   ]
  },
  {
   "cell_type": "markdown",
   "metadata": {},
   "source": [
    "Remove Null Values"
   ]
  },
  {
   "cell_type": "code",
   "execution_count": 147,
   "metadata": {},
   "outputs": [
    {
     "name": "stdout",
     "output_type": "stream",
     "text": [
      "             2020 ranking  Overall Strength Index  Aircraft Power  \\\n",
      "0           United States                  0.0606         13264.0   \n",
      "1                  Russia                  0.0681          4163.0   \n",
      "2                   China                  0.0691          3210.0   \n",
      "3                   India                  0.0953          2123.0   \n",
      "4                   Japan                  0.1501          1561.0   \n",
      "..                    ...                     ...             ...   \n",
      "92                Bahrain                  1.8547           109.0   \n",
      "93             Tajikistan                  1.8661            25.0   \n",
      "94            Ivory Coast                  2.0236             8.0   \n",
      "95  Republic of the Congo                  2.9509            13.0   \n",
      "96             Mauritania                  3.0477            28.0   \n",
      "\n",
      "    Land Assets  Navy Fleet Strength  Defense Budget  Natural Resources  \\\n",
      "0        6289.0                490.0    7.500000e+11       3.652000e+10   \n",
      "1       12950.0                603.0    4.800000e+10       8.000000e+10   \n",
      "2        3500.0                777.0    2.370000e+11       2.562000e+10   \n",
      "3        4292.0                285.0    6.100000e+10       4.621000e+09   \n",
      "4        1004.0                155.0    4.900000e+10       4.412000e+07   \n",
      "..          ...                  ...             ...                ...   \n",
      "92        180.0                 39.0    1.415000e+09       1.246000e+08   \n",
      "93        253.0                  0.0    1.600000e+09       1.200000e+07   \n",
      "94         15.0                 10.0    5.500000e+08       1.000000e+08   \n",
      "95         86.0                  6.0    7.150000e+08       1.600000e+09   \n",
      "96         35.0                  5.0    5.025000e+07       2.000000e+07   \n",
      "\n",
      "       Manpower  \n",
      "0   144872845.0  \n",
      "1    69640160.0  \n",
      "2   752855402.0  \n",
      "3   622480340.0  \n",
      "4    53873803.0  \n",
      "..          ...  \n",
      "92     806505.0  \n",
      "93    4095924.0  \n",
      "94   11160747.0  \n",
      "95    1938754.0  \n",
      "96    1555374.0  \n",
      "\n",
      "[93 rows x 8 columns]\n",
      "Mean Squared Error (MSE): 1.088103525241738\n",
      "R-squared (R2): -3.650001064895312\n"
     ]
    }
   ],
   "source": [
    "df = df.dropna()\n",
    "print(df)\n",
    "\n",
    "X = df[['Aircraft Power', 'Land Assets', 'Navy Fleet Strength']]\n",
    "y = df['Overall Strength Index']\n",
    "#split data\n",
    "X_train, X_test, y_train, y_test = train_test_split(X, y, test_size=0.3, random_state=42)\n",
    "#create model\n",
    "model = LinearRegression()\n",
    "#train \n",
    "model.fit(X_train, y_train)\n",
    "#predictions\n",
    "y_pred = model.predict(X_test)\n",
    "# Calculate Mean Squared Error\n",
    "mse = mean_squared_error(y_test, y_pred)\n",
    "# Calculate R-squared \n",
    "r2 = r2_score(y_test, y_pred)\n",
    "# Print \n",
    "print(f'Mean Squared Error (MSE): {mse}')\n",
    "print(f'R-squared (R2): {r2}')\n"
   ]
  },
  {
   "cell_type": "markdown",
   "metadata": {},
   "source": []
  },
  {
   "cell_type": "code",
   "execution_count": 148,
   "metadata": {},
   "outputs": [
    {
     "name": "stderr",
     "output_type": "stream",
     "text": [
      "/var/folders/p0/8682qb1x5rj1kcym7p1gkcxh0000gn/T/ipykernel_1561/2499387306.py:2: FutureWarning: The default value of numeric_only in DataFrame.corr is deprecated. In a future version, it will default to False. Select only valid columns or specify the value of numeric_only to silence this warning.\n",
      "  sns.heatmap(df.corr(),annot=False,linewidth = 0.5)\n"
     ]
    },
    {
     "data": {
      "text/plain": [
       "<Axes: >"
      ]
     },
     "execution_count": 148,
     "metadata": {},
     "output_type": "execute_result"
    },
    {
     "data": {
      "image/png": "[encoded data removed]",
      "text/plain": [
       "<Figure size 1000x500 with 2 Axes>"
      ]
     },
     "metadata": {},
     "output_type": "display_data"
    }
   ],
   "source": [
    "plt.figure(figsize=(10,5))\n",
    "sns.heatmap(df.corr(),annot=False,linewidth = 0.5)"
   ]
  },
  {
   "cell_type": "code",
   "execution_count": 149,
   "metadata": {},
   "outputs": [
    {
     "name": "stdout",
     "output_type": "stream",
     "text": [
      "Mean Squared Error (MSE): 0.2298153115533305\n",
      "R-squared (R2): -0.048154455554557885\n"
     ]
    }
   ],
   "source": [
    "X = df[['Aircraft Power', 'Land Assets', 'Navy Fleet Strength', 'Defense Budget', 'Natural Resources', 'Manpower']]\n",
    "y = df['Overall Strength Index']\n",
    "#split data\n",
    "X_train, X_test, y_train, y_test = train_test_split(X, y, test_size=0.5, random_state=42)\n",
    "#create model\n",
    "model = LinearRegression()\n",
    "#train \n",
    "model.fit(X_train, y_train)\n",
    "#predictions\n",
    "y_pred = model.predict(X_test)\n",
    "# Calculate Mean Squared Error\n",
    "mse = mean_squared_error(y_test, y_pred)\n",
    "# Calculate R-squared \n",
    "r2 = r2_score(y_test, y_pred)\n",
    "# Print \n",
    "print(f'Mean Squared Error (MSE): {mse}')\n",
    "print(f'R-squared (R2): {r2}')\n",
    "\n"
   ]
  },
  {
   "cell_type": "code",
   "execution_count": 153,
   "metadata": {},
   "outputs": [
    {
     "name": "stdout",
     "output_type": "stream",
     "text": [
      "Mean Squared Error (MSE): 1.9132743297039477e+21\n",
      "R-squared (R2): 0.8350479710106053\n"
     ]
    }
   ],
   "source": [
    "X = df[['Overall Strength Index','Aircraft Power', 'Land Assets', 'Navy Fleet Strength']]\n",
    "y = df['Defense Budget']\n",
    "#split data\n",
    "X_train, X_test, y_train, y_test = train_test_split(X, y, test_size=0.5, random_state=42)\n",
    "#create model\n",
    "model = LinearRegression()\n",
    "#train \n",
    "model.fit(X_train, y_train)\n",
    "#predictions\n",
    "y_pred = model.predict(X_test)\n",
    "# Calculate Mean Squared Error\n",
    "mse = mean_squared_error(y_test, y_pred)\n",
    "# Calculate R-squared \n",
    "r2 = r2_score(y_test, y_pred)\n",
    "# Print \n",
    "print(f'Mean Squared Error (MSE): {mse}')\n",
    "print(f'R-squared (R2): {r2}')\n"
   ]
  },
  {
   "cell_type": "code",
   "execution_count": 151,
   "metadata": {},
   "outputs": [
    {
     "name": "stdout",
     "output_type": "stream",
     "text": [
      "<class 'pandas.core.frame.DataFrame'>\n",
      "Int64Index: 93 entries, 0 to 96\n",
      "Data columns (total 8 columns):\n",
      " #   Column                  Non-Null Count  Dtype  \n",
      "---  ------                  --------------  -----  \n",
      " 0   2020 ranking            93 non-null     object \n",
      " 1   Overall Strength Index  93 non-null     float64\n",
      " 2   Aircraft Power          93 non-null     float64\n",
      " 3   Land Assets             93 non-null     float64\n",
      " 4   Navy Fleet Strength     93 non-null     float64\n",
      " 5   Defense Budget          93 non-null     float64\n",
      " 6   Natural Resources       93 non-null     float64\n",
      " 7   Manpower                93 non-null     float64\n",
      "dtypes: float64(7), object(1)\n",
      "memory usage: 6.5+ KB\n"
     ]
    }
   ],
   "source": [
    "df.info()"
   ]
  }
 ],
 "metadata": {
  "kernelspec": {
   "display_name": "base",
   "language": "python",
   "name": "python3"
  },
  "language_info": {
   "codemirror_mode": {
    "name": "ipython",
    "version": 3
   },
   "file_extension": ".py",
   "mimetype": "text/x-python",
   "name": "python",
   "nbconvert_exporter": "python",
   "pygments_lexer": "ipython3",
   "version": "3.11.4"
  },
  "orig_nbformat": 4
 },
 "nbformat": 4,
 "nbformat_minor": 2
}
